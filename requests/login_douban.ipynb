{
 "cells": [
  {
   "cell_type": "code",
   "execution_count": 1,
   "metadata": {
    "collapsed": true
   },
   "outputs": [],
   "source": [
    "import requests\n",
    "import html5lib\n",
    "import re\n",
    "from bs4 import BeautifulSoup"
   ]
  },
  {
   "cell_type": "code",
   "execution_count": 11,
   "metadata": {},
   "outputs": [
    {
     "name": "stdout",
     "output_type": "stream",
     "text": [
      "['KXsMeTmTeH2qF8etfsmkW4IC:en']\n",
      "https://www.douban.com/misc/captcha?id=KXsMeTmTeH2qF8etfsmkW4IC:en&size=s\n",
      "Please input the captcha:between\n"
     ]
    }
   ],
   "source": [
    "s = requests.Session()\n",
    "# 登录url\n",
    "url_login = 'http://accounts.douban.com/login'\n",
    "\n",
    "# 登录表单数据\n",
    "formdata = {\n",
    "    # 重定向\n",
    "    'redir':'https://www.douban.com',\n",
    "    'form_email': '1211126374@qq.com',\n",
    "    'form_password': 'helong123',\n",
    "    'login': u'登陆'\n",
    "}\n",
    "# 模拟浏览器的头信息\n",
    "headers = {\n",
    "    'user-agent': 'Mozilla/5.0 (Windows NT 6.3; WOW64) AppleWebKit/537.36 (KHTML, like Gecko) Chrome/44.0.2403.157 Safari/537.36'\n",
    "}\n",
    "# 登录\n",
    "r = s.post(url_login, data = formdata, headers = headers)\n",
    "content = r.text\n",
    "# 找验证码信息\n",
    "soup = BeautifulSoup(content, 'html5lib')\n",
    "# 二维码\n",
    "captcha = soup.find('img', id = 'captcha_image')\n",
    "if captcha:\n",
    "    captcha_url = captcha['src']\n",
    "    re_captcha_id = r'<input type=\"hidden\" name=\"captcha-id\" value=\"(.*?)\"/'\n",
    "    captcha_id = re.findall(re_captcha_id, content)\n",
    "    print(captcha_id)\n",
    "    print(captcha_url)\n",
    "    captcha_text = input('Please input the captcha:')\n",
    "    formdata['captcha-solution'] = captcha_text\n",
    "    formdata['captcha-id'] = captcha_id\n",
    "    r = s.post(url_login, data = formdata, headers = headers)\n",
    "with open('contacts.txt', 'w+', encoding = 'utf-8') as f:\n",
    "    f.write(r.text)"
   ]
  },
  {
   "cell_type": "code",
   "execution_count": null,
   "metadata": {
    "collapsed": true
   },
   "outputs": [],
   "source": []
  }
 ],
 "metadata": {
  "kernelspec": {
   "display_name": "Python 3",
   "language": "python",
   "name": "python3"
  },
  "language_info": {
   "codemirror_mode": {
    "name": "ipython",
    "version": 3
   },
   "file_extension": ".py",
   "mimetype": "text/x-python",
   "name": "python",
   "nbconvert_exporter": "python",
   "pygments_lexer": "ipython3",
   "version": "3.6.1"
  }
 },
 "nbformat": 4,
 "nbformat_minor": 2
}
