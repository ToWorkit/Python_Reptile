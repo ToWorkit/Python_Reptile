{
 "cells": [
  {
   "cell_type": "code",
   "execution_count": 1,
   "metadata": {
    "collapsed": true
   },
   "outputs": [],
   "source": [
    "import requests"
   ]
  },
  {
   "cell_type": "code",
   "execution_count": 2,
   "metadata": {
    "collapsed": true
   },
   "outputs": [],
   "source": [
    "# 模拟浏览器的头信息\n",
    "headers = {\n",
    "    'user-agent': 'Mozilla/5.0 (Windows NT 6.3; WOW64) AppleWebKit/537.36 (KHTML, like Gecko) Chrome/44.0.2403.157 Safari/537.36'\n",
    "}\n",
    "cookies = {\n",
    "    'cookie': 'bid=TjArWEBrBUk; ll=\"108288\"; gr_user_id=4e4ba499-a422-4105-9bb8-04df52e14953; viewed=\"20432061_1775691_6781808_5346110_10546125\"; _vwo_uuid_v2=10A9CB30CCC96B6AFF015E5F01F59783|9a1bbd235580e16b9c3b29b1a69f3e7b; ps=y; _ga=GA1.2.192688035.1495340714; _gid=GA1.2.1758121909.1509544612; ap=1; ue=\"1211126374@qq.com\"; dbcl2=\"169035675:G9vKgxjOr8M\"; ck=tXPf; _pk_ref.100001.8cb4=%5B%22%22%2C%22%22%2C1509573597%2C%22https%3A%2F%2Fwww.baidu.com%2Flink%3Furl%3DsMBwogbmmebCQxgmV3ta5pUDHXMUDEWHjqPCrJ_4OzqXWkAXrz0PvETnowZKrrr_uJY31TDiQRvmz7GO9Oxwba%26wd%3D%26eqid%3De80f67c600000acd0000000259e616e6%22%5D; _pk_id.100001.8cb4=90005d95ea7e8494.1501857934.8.1509573597.1509548907.; _pk_ses.100001.8cb4=*; push_noty_num=0; push_doumail_num=0; __utmt=1; __utma=30149280.192688035.1495340714.1509548899.1509573597.22; __utmb=30149280.2.10.1509573597; __utmc=30149280; __utmz=30149280.1508251376.19.17.utmcsr=baidu|utmccn=(organic)|utmcmd=organic; __utmv=30149280.16903'\n",
    "}\n",
    "url = 'http://www.douban.com'\n",
    "r = requests.get(url, cookies = cookies, headers = headers)\n",
    "with open('douban_02.txt', 'wb+') as f:\n",
    "    f.write(r.content)"
   ]
  },
  {
   "cell_type": "code",
   "execution_count": null,
   "metadata": {
    "collapsed": true
   },
   "outputs": [],
   "source": []
  }
 ],
 "metadata": {
  "kernelspec": {
   "display_name": "Python 3",
   "language": "python",
   "name": "python3"
  },
  "language_info": {
   "codemirror_mode": {
    "name": "ipython",
    "version": 3
   },
   "file_extension": ".py",
   "mimetype": "text/x-python",
   "name": "python",
   "nbconvert_exporter": "python",
   "pygments_lexer": "ipython3",
   "version": "3.6.1"
  }
 },
 "nbformat": 4,
 "nbformat_minor": 2
}
