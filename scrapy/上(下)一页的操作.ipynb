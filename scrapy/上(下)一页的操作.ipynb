{
 "cells": [
  {
   "cell_type": "code",
   "execution_count": 2,
   "metadata": {
    "collapsed": true
   },
   "outputs": [],
   "source": [
    "# 命令行\n",
    "# -o -> 保存至 （会一直向文件末尾追加）\n",
    "# scrapy runspider test.py -o test.json\n",
    "import scrapy"
   ]
  },
  {
   "cell_type": "code",
   "execution_count": 3,
   "metadata": {
    "collapsed": true
   },
   "outputs": [],
   "source": [
    "# 先定义一个蜘蛛的类\n",
    "# 继承自 scrapy 的 Spider\n",
    "class QuoteSpider(scrapy.Spider):\n",
    "    name = 'quote'\n",
    "    # 起始页 -> 可以是多个\n",
    "    # 1 - 20 页\n",
    "    start_urls = ['http://quotes.toscrape.com/tag/humor/']\n",
    "    \n",
    "    # 解析\n",
    "    def parse(self, response):\n",
    "        # 找到所有 div.class = course_info_box 的元素\n",
    "        for quo in  response.xpath('//div[@class=\"quote\"]'):\n",
    "            # 推荐数\n",
    "            print(quo.xpath('span[@class=\"text\"]/text()').extract_first())\n",
    "            print(quo.xpath('span/small[@class=\"author\"]/text()').extract_first())\n",
    "            # 抛出内容，类似return但不会停止操作\n",
    "            yield {\n",
    "                'title': quo.xpath('span[@class=\"text\"]/text()').extract_first(),\n",
    "                'author': quo.xpath('span/small[@class=\"author\"]/text()').extract_first(),\n",
    "            }\n",
    "            \n",
    "        # 下一页操作\n",
    "        next_page = response.xpath('//li[@class=\"next\"]/a/@href').extract_first()\n",
    "        # 最后一页木有下一页\n",
    "        if next_page is not None:\n",
    "            # 不为空就加入到 爬取url队列 中\n",
    "            next_page = response.urljoin(next_page)\n",
    "            # 加入执行操作\n",
    "            # 回调函数 -> 递归自己\n",
    "            # 当前页继续使用parse函数解析\n",
    "            yield scrapy.Request(next_page, callback = self.parse)"
   ]
  },
  {
   "cell_type": "code",
   "execution_count": null,
   "metadata": {
    "collapsed": true
   },
   "outputs": [],
   "source": []
  }
 ],
 "metadata": {
  "kernelspec": {
   "display_name": "Python 3",
   "language": "python",
   "name": "python3"
  },
  "language_info": {
   "codemirror_mode": {
    "name": "ipython",
    "version": 3
   },
   "file_extension": ".py",
   "mimetype": "text/x-python",
   "name": "python",
   "nbconvert_exporter": "python",
   "pygments_lexer": "ipython3",
   "version": "3.6.1"
  }
 },
 "nbformat": 4,
 "nbformat_minor": 2
}
