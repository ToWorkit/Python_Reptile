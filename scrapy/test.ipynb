{
 "cells": [
  {
   "cell_type": "code",
   "execution_count": 2,
   "metadata": {},
   "outputs": [],
   "source": [
    "# 命令行\n",
    "# -o -> 保存至 （会一直向文件末尾追加）\n",
    "# scrapy runspider test.py -o test.json\n",
    "import scrapy"
   ]
  },
  {
   "cell_type": "code",
   "execution_count": 3,
   "metadata": {
    "collapsed": true
   },
   "outputs": [],
   "source": [
    "# 先定义一个蜘蛛的类\n",
    "# 继承自 scrapy 的 Spider\n",
    "class TestSpider(scrapy.Spider):\n",
    "    name = 'test'\n",
    "    # 起始页 -> 可以是多个\n",
    "    start_urls = ['https://www.julyedu.com/category/index']\n",
    "    \n",
    "    # 解析\n",
    "    def parse(self, response):\n",
    "        # 找到所有 div.class = course_info_box 的元素\n",
    "        for _class in  response.xpath('//div[@class=\"course_info_box\"]'):\n",
    "            print(_class.xpath('a/h4/text()').extract_first())\n",
    "            print(_class.xpath('a/p[@class=\"course-info-tip\"][1]/text()').extract_first())\n",
    "            print(_class.xpath('a/p[@class=\"course-info-tip\"][2]/text()').extract_first())\n",
    "            yield {\n",
    "                'title': _class.xpath('a/h4/text()').extract_first(),\n",
    "                'desc': _class.xpath('a/p[@class=\"course-info-tip\"][1]/text()').extract_first(),\n",
    "                'time': _class.xpath('a/p[@class=\"course-info-tip\"][2]/text()').extract_first()\n",
    "            }"
   ]
  },
  {
   "cell_type": "code",
   "execution_count": null,
   "metadata": {
    "collapsed": true
   },
   "outputs": [],
   "source": []
  }
 ],
 "metadata": {
  "kernelspec": {
   "display_name": "Python 3",
   "language": "python",
   "name": "python3"
  },
  "language_info": {
   "codemirror_mode": {
    "name": "ipython",
    "version": 3
   },
   "file_extension": ".py",
   "mimetype": "text/x-python",
   "name": "python",
   "nbconvert_exporter": "python",
   "pygments_lexer": "ipython3",
   "version": "3.6.1"
  }
 },
 "nbformat": 4,
 "nbformat_minor": 2
}
