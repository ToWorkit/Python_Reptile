{
 "cells": [
  {
   "cell_type": "code",
   "execution_count": 2,
   "metadata": {
    "collapsed": true
   },
   "outputs": [],
   "source": [
    "from threading import Thread\n",
    "import time"
   ]
  },
  {
   "cell_type": "code",
   "execution_count": 5,
   "metadata": {},
   "outputs": [
    {
     "name": "stdout",
     "output_type": "stream",
     "text": [
      "Total time: 1.3014228343963623\n"
     ]
    }
   ],
   "source": [
    "def my_counter():\n",
    "    i = 0\n",
    "    for _ in range(10000000):\n",
    "        i += 1\n",
    "    return True\n",
    "\n",
    "def main():\n",
    "    thread_array = {}\n",
    "    start_time = time.time()\n",
    "    for tid in range(2):\n",
    "        t = Thread(target=my_counter)\n",
    "        t.start()\n",
    "        # 并发\n",
    "        thread_array[tid] = t\n",
    "    # 使用join结束\n",
    "    for i in range(2):\n",
    "        thread_array[i].join()\n",
    "    end_time = time.time()\n",
    "    print('Total time: %s' % (float(end_time) - float(start_time)))\n",
    "if __name__ == '__main__':\n",
    "    main()"
   ]
  },
  {
   "cell_type": "code",
   "execution_count": 3,
   "metadata": {},
   "outputs": [
    {
     "name": "stdout",
     "output_type": "stream",
     "text": [
      "10000\n",
      "\n",
      "10000\n",
      "10000\n",
      "10000\n",
      "10000\n",
      "\n",
      "\n",
      "\n",
      "\n"
     ]
    }
   ],
   "source": [
    "import threading\n",
    "import time\n",
    "def thread_func(x):\n",
    "    # 等两秒\n",
    "    time.sleep(2)\n",
    "    print('%d\\n' % (x * 100))\n",
    "\n",
    "threads = []\n",
    "# 5个线程\n",
    "for i in range(5):\n",
    "    # 参数为元组，一个值的时候也要加逗号\n",
    "    threads.append(threading.Thread(target = thread_func, args = (100,)))\n",
    "# 并发    \n",
    "for thread in threads:    \n",
    "    thread.start()\n",
    "# 等 5个线程都结束了再停止进程  \n",
    "for thread in threads:\n",
    "    thread.join()"
   ]
  },
  {
   "cell_type": "code",
   "execution_count": null,
   "metadata": {
    "collapsed": true
   },
   "outputs": [],
   "source": []
  }
 ],
 "metadata": {
  "kernelspec": {
   "display_name": "Python 3",
   "language": "python",
   "name": "python3"
  },
  "language_info": {
   "codemirror_mode": {
    "name": "ipython",
    "version": 3
   },
   "file_extension": ".py",
   "mimetype": "text/x-python",
   "name": "python",
   "nbconvert_exporter": "python",
   "pygments_lexer": "ipython3",
   "version": "3.6.1"
  }
 },
 "nbformat": 4,
 "nbformat_minor": 2
}
