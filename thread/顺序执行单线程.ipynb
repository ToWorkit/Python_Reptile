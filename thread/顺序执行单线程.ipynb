{
 "cells": [
  {
   "cell_type": "code",
   "execution_count": 7,
   "metadata": {
    "collapsed": true
   },
   "outputs": [],
   "source": [
    "from threading import Thread\n",
    "import time"
   ]
  },
  {
   "cell_type": "code",
   "execution_count": 11,
   "metadata": {},
   "outputs": [
    {
     "name": "stdout",
     "output_type": "stream",
     "text": [
      "Total time: 1.3744738101959229\n"
     ]
    }
   ],
   "source": [
    "def my_countter():\n",
    "    i = 0\n",
    "    for _ in range(10000000):\n",
    "        i += 1\n",
    "    return True\n",
    "def main():\n",
    "    thread_array = {}\n",
    "    # 开始时间\n",
    "    start_time = time.time()\n",
    "    for tid in range(2):\n",
    "        # 线程执行\n",
    "        t = Thread(target=my_countter)\n",
    "        t.start()\n",
    "        # 阻塞进程直到当前线程执行完毕，然后再进行下一个线程，强制等待\n",
    "        t.join() \n",
    "    end_time = time.time()\n",
    "    print('Total time: %s' % (float(end_time) - float(start_time)))\n",
    "if __name__ == '__main__':\n",
    "    main()"
   ]
  },
  {
   "cell_type": "code",
   "execution_count": null,
   "metadata": {
    "collapsed": true
   },
   "outputs": [],
   "source": []
  }
 ],
 "metadata": {
  "kernelspec": {
   "display_name": "Python 3",
   "language": "python",
   "name": "python3"
  },
  "language_info": {
   "codemirror_mode": {
    "name": "ipython",
    "version": 3
   },
   "file_extension": ".py",
   "mimetype": "text/x-python",
   "name": "python",
   "nbconvert_exporter": "python",
   "pygments_lexer": "ipython3",
   "version": "3.6.1"
  }
 },
 "nbformat": 4,
 "nbformat_minor": 2
}
