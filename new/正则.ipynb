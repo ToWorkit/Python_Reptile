{
 "cells": [
  {
   "cell_type": "code",
   "execution_count": 2,
   "metadata": {
    "scrolled": true
   },
   "outputs": [],
   "source": [
    "import re"
   ]
  },
  {
   "cell_type": "code",
   "execution_count": 4,
   "metadata": {
    "scrolled": true
   },
   "outputs": [
    {
     "name": "stdout",
     "output_type": "stream",
     "text": [
      "14\n",
      "<_sre.SRE_Match object; span=(0, 14), match='Hello 80 World'>\n",
      "Hello 80 World\n",
      "(0, 14)\n"
     ]
    }
   ],
   "source": [
    "# match\n",
    "content = 'Hello 80 World'\n",
    "# 查看长度\n",
    "print(len(content))\n",
    "result = re.match('^Hello\\s\\d?.*World$', content)\n",
    "print(result)\n",
    "# 查看结果\n",
    "print(result.group())\n",
    "# 查看匹配范围\n",
    "print(result.span())"
   ]
  },
  {
   "cell_type": "code",
   "execution_count": null,
   "metadata": {
    "scrolled": true
   },
   "outputs": [],
   "source": []
  }
 ],
 "metadata": {
  "kernelspec": {
   "display_name": "Python 3",
   "language": "python",
   "name": "python3"
  },
  "language_info": {
   "codemirror_mode": {
    "name": "ipython",
    "version": 3
   },
   "file_extension": ".py",
   "mimetype": "text/x-python",
   "name": "python",
   "nbconvert_exporter": "python",
   "pygments_lexer": "ipython3",
   "version": "3.6.1"
  }
 },
 "nbformat": 4,
 "nbformat_minor": 2
}
