{
 "cells": [
  {
   "cell_type": "code",
   "execution_count": 1,
   "metadata": {
    "collapsed": true
   },
   "outputs": [],
   "source": [
    "import requests\n",
    "import re\n",
    "import json\n",
    "# 错误信息\n",
    "from requests.exceptions import RequestException\n",
    "# 进程池\n",
    "from multiprocessing import Pool"
   ]
  },
  {
   "cell_type": "code",
   "execution_count": 2,
   "metadata": {
    "collapsed": true
   },
   "outputs": [],
   "source": [
    "# 页面信息\n",
    "def get_page(url):\n",
    "    try:\n",
    "        response = requests.get(url)\n",
    "        if response.status_code == 200:\n",
    "            return response.text\n",
    "        return None\n",
    "    except RequestException:\n",
    "        return None\n",
    "# 解析页面提取信息\n",
    "def parse_page(html):\n",
    "    # 生成正则对象\n",
    "    # re.S -> 忽略换行\n",
    "    pattern = re.compile('<dd>.*?board-index.*?>(\\d+)</i>.*?data-src=\"(.*?)\".*?name\"><a.*?>(.*?)</a>.*?star\">(.*?).*?releasetime\">(.*?)</p>.*?integer\">(.*?).*?fraction\">(.*?)</i>.*?</dd>', re.S)\n",
    "    items = re.findall(pattern, html)\n",
    "#     print(items)\n",
    "    # 数据清洗\n",
    "    # yield -> 生成器，调用时才会返回值\n",
    "    for item in items:\n",
    "        yield {\n",
    "            'index': item[0],\n",
    "            'image': item[1],\n",
    "            'title': item[2],\n",
    "            'actor': item[3].strip()[3:], # 取下标为 3 的值之后的数据\n",
    "            'time': item[4].strip()[5:],\n",
    "            'score': item[5] + item[6]\n",
    "        }\n",
    "# 写入文件\n",
    "def wirte_to_file(content):\n",
    "    with open('result.txt', 'a', encoding='utf-8') as f:\n",
    "        # 转为json格式，不转ascii码，换行\n",
    "        f.write(json.dumps(content, ensure_ascii=False) + '\\n')\n",
    "def main(offset):\n",
    "    url = 'http://maoyan.com/board/4?offset=' + str(offset)\n",
    "    html = get_page(url)\n",
    "#     print(html)\n",
    "    for item in parse_page(html):\n",
    "        print(item)\n",
    "        wirte_to_file(item)\n",
    "if __name__ == '__main__':\n",
    "    # 创建进程池\n",
    "    pool = Pool()\n",
    "    pool.map(main, [i * 10 for i in range(10)])\n",
    "    pool.close()\n",
    "    pool.join()"
   ]
  },
  {
   "cell_type": "code",
   "execution_count": null,
   "metadata": {
    "collapsed": true
   },
   "outputs": [],
   "source": []
  }
 ],
 "metadata": {
  "kernelspec": {
   "display_name": "Python 3",
   "language": "python",
   "name": "python3"
  },
  "language_info": {
   "codemirror_mode": {
    "name": "ipython",
    "version": 3
   },
   "file_extension": ".py",
   "mimetype": "text/x-python",
   "name": "python",
   "nbconvert_exporter": "python",
   "pygments_lexer": "ipython3",
   "version": "3.6.1"
  }
 },
 "nbformat": 4,
 "nbformat_minor": 2
}
