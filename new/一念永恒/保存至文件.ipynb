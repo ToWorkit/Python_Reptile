{
 "cells": [
  {
   "cell_type": "code",
   "execution_count": null,
   "metadata": {
    "collapsed": true
   },
   "outputs": [],
   "source": [
    "from urllib import request\n",
    "from bs4 import BeautifulSoup\n",
    "import re\n",
    "# http://blog.csdn.net/liu5257/article/details/53740214\n",
    "'''\n",
    "os模块负责程序与操作系统的交互，提供了访问操作系统底层的接口;\n",
    "sys模块负责程序与python解释器的交互，提供了一系列的函数和变量，用于操控python的运行时环境\n",
    "'''\n",
    "import sys"
   ]
  },
  {
   "cell_type": "code",
   "execution_count": null,
   "metadata": {},
   "outputs": [],
   "source": [
    "if __name__ == '__main__':\n",
    "    # 创建txt文件\n",
    "    file = open('一念永恒.txt', 'w', encoding='utf-8')\n",
    "    # 目录\n",
    "    target_url = 'http://www.biqukan.com/1_1094/'\n",
    "    head = {}\n",
    "    head['User-Agent'] = 'Mozilla/5.0 (Windows NT 6.1; Win64; x64) AppleWebKit/537.36 (KHTML, like Gecko) Chrome/63.0.3239.84 Safari/537.36'\n",
    "    # 构建请求\n",
    "    target_req = request.Request(url=target_url, headers = head)\n",
    "    # 接收响应\n",
    "    target_response = request.urlopen(target_req)\n",
    "    # 解码处理\n",
    "    # ignore -> 忽略非法字符\n",
    "    target_html = target_response.read().decode('gbk', 'ignore')\n",
    "    # 创建BeautifulSoup对象\n",
    "    listmain_soup = BeautifulSoup(target_html, 'lxml')\n",
    "    # 搜索文档树,找出div标签中class为listmain的所有子标签\n",
    "    chapters = listmain_soup.find_all('div',class_ = 'listmain')\n",
    "    # 将查询结果在创建一个BeautifulSoup对象继续进行解析\n",
    "    download_soup= BeautifulSoup(str(chapters), 'lxml')\n",
    "    # 计算章节个数\n",
    "    numbers = (len(download_soup.dl.contents) - 1) / 2 - 8\n",
    "    index = 1\n",
    "    # 记录章节标志位，只要正文卷下面的链接，最新章节列表的链接舍弃\n",
    "    begin_flag = False\n",
    "    # 遍历文档树下dl标签中的所有子节点\n",
    "    for child in download_soup.dl.children:\n",
    "        # 滤除回车\n",
    "        if child != '\\n':\n",
    "            # 定位到正文卷\n",
    "            if child.string == u\"《一念永恒》正文卷\":\n",
    "                begin_flag = True\n",
    "            # 爬取链接并下载内容\n",
    "            if begin_flag == True and child.a != None:\n",
    "                download_url = 'http://www.biqukan.com' + child.a.get('href')\n",
    "                # 构建请求\n",
    "                download_req = request.Request(url = download_url, headers = head)\n",
    "                # 接收响应\n",
    "                download_response = request.urlopen(download_req)\n",
    "                # 解码并忽略非法字符\n",
    "                download_html = download_response.read().decode('gbk', 'ignore')\n",
    "                # 章节名\n",
    "                download_name = child.string\n",
    "                # 创建BeautifulSoup对象\n",
    "                soup_texts = BeautifulSoup(download_html, 'lxml')\n",
    "                # 找到内容标签\n",
    "                texts = soup_texts.find_all(id = 'content', class_ = 'showtxt')\n",
    "                # 创建BeautifulSoup对象\n",
    "                soup_text = BeautifulSoup(str(texts), 'lxml')\n",
    "                write_flag = True\n",
    "                # 写章节名\n",
    "                file.write(download_name + '\\n\\n')\n",
    "                # 将爬取内容写入文件\n",
    "                # 处理特殊字符\n",
    "                for each in soup_text.div.text.replace('\\xa0', ''):\n",
    "                    if each == 'h':\n",
    "                        write_flag = False\n",
    "                    if write_flag == True and each != ' ':\n",
    "                        file.write(each)\n",
    "                    if write_flag == True and each == '\\r':\n",
    "                        file.write('\\n')\n",
    "                file.write('\\n\\n')\n",
    "                # 打印爬虫进度\n",
    "                sys.stdout.write(\"已下载: %.3f%%\" % float(index/numbers) + '\\r')\n",
    "                sys.stdout.flush()\n",
    "                index += 1\n",
    "    file.close()\n",
    "                    "
   ]
  },
  {
   "cell_type": "code",
   "execution_count": null,
   "metadata": {
    "collapsed": true
   },
   "outputs": [],
   "source": []
  }
 ],
 "metadata": {
  "kernelspec": {
   "display_name": "Python 3",
   "language": "python",
   "name": "python3"
  },
  "language_info": {
   "codemirror_mode": {
    "name": "ipython",
    "version": 3
   },
   "file_extension": ".py",
   "mimetype": "text/x-python",
   "name": "python",
   "nbconvert_exporter": "python",
   "pygments_lexer": "ipython3",
   "version": "3.6.1"
  }
 },
 "nbformat": 4,
 "nbformat_minor": 2
}
