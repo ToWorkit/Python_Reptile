{
 "cells": [
  {
   "cell_type": "code",
   "execution_count": 1,
   "metadata": {
    "collapsed": true
   },
   "outputs": [],
   "source": [
    "from urllib import request\n",
    "from bs4 import BeautifulSoup\n",
    "# 内建的一个集合模块，提供了许多有用的集合类\n",
    "import collections\n",
    "import re, os, time, sys, types"
   ]
  },
  {
   "cell_type": "code",
   "execution_count": null,
   "metadata": {
    "collapsed": true
   },
   "outputs": [],
   "source": [
    "'''\n",
    "    下载小说\n",
    "    params -> target => 指定小说目录地址(string)\n",
    "    return => None\n",
    "'''\n",
    "class Download(object):\n",
    "    def __init__(self, target):\n",
    "        self._target_url = target\n",
    "        self._head = {'User-Agent': 'Mozilla/5.0 (Windows NT 6.1; Win64; x64) AppleWebKit/537.36 (KHTML, like Gecko) Chrome/63.0.3239.84 Safari/537.36'}\n",
    "    \n",
    "    '''\n",
    "        获取下载链接\n",
    "        params -> None\n",
    "        return \n",
    "            novel_name + '.txt' -> 保存的小说名(string)\n",
    "            numbers -> 章节数(int)\n",
    "            download_dict -> 保存章节名称和下载链接的字典(dict)\n",
    "    '''\n",
    "    def get_download_url(self):\n",
    "        # 构建正则对象\n",
    "        # re.I -> 忽略大小写\n",
    "        charter = re.compile(u'[第](.+)章', re.I)\n",
    "        # 构建请求\n",
    "        target_req = request.Request(url = self._target_url, headers = self._head)\n",
    "        # 接收请求\n",
    "        target_response = request.urlopen(target_req)\n",
    "        # 转码获取内容\n",
    "        # 忽略特殊字符\n",
    "        target_html = target_response.read().decode('gbk', 'ignore')\n",
    "        # 构建BeautifulSoup对象\n",
    "        listmain_soup = BeautifulSoup(target_html, 'lxml')\n",
    "        # 找到内容标签\n",
    "        chapters = listmain_soup.dind"
   ]
  }
 ],
 "metadata": {
  "kernelspec": {
   "display_name": "Python 3",
   "language": "python",
   "name": "python3"
  },
  "language_info": {
   "codemirror_mode": {
    "name": "ipython",
    "version": 3
   },
   "file_extension": ".py",
   "mimetype": "text/x-python",
   "name": "python",
   "nbconvert_exporter": "python",
   "pygments_lexer": "ipython3",
   "version": "3.6.1"
  }
 },
 "nbformat": 4,
 "nbformat_minor": 2
}
