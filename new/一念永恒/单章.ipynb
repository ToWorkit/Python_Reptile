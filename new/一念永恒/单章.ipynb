{
 "cells": [
  {
   "cell_type": "code",
   "execution_count": null,
   "metadata": {
    "collapsed": true
   },
   "outputs": [],
   "source": [
    "from urllib import request\n",
    "from bs4 import BeautifulSoup"
   ]
  },
  {
   "cell_type": "code",
   "execution_count": null,
   "metadata": {},
   "outputs": [],
   "source": [
    "if __name__ == '__main__':\n",
    "    download_url = 'http://www.biqukan.com/1_1094/5403177.html'\n",
    "    head = {}\n",
    "    head['User-Agent'] = 'Mozilla/5.0 (Windows NT 6.1; Win64; x64) AppleWebKit/537.36 (KHTML, like Gecko) Chrome/63.0.3239.84 Safari/537.36'\n",
    "    # 构建请求\n",
    "    download_req = request.Request(url=download_url, headers = head)\n",
    "    # 接收响应\n",
    "    download_response = request.urlopen(download_req)\n",
    "    # 解码处理\n",
    "    # ignore -> 忽略非法字符\n",
    "    download_html = download_response.read().decode('gbk', 'ignore')\n",
    "    # 创建BeautifulSoup对象\n",
    "    soup_texts = BeautifulSoup(download_html, 'lxml')\n",
    "    # 找到文章内容标签\n",
    "    texts = soup_texts.find_all(id = 'content', class_ = 'showtxt')\n",
    "    # 解析\n",
    "    soup_text = BeautifulSoup(str(texts), 'lxml')\n",
    "    # 将\\xa0(连续的空白符，半角，全角的特殊字符)无法解码的字符删除\n",
    "    print(soup_text.div.text.replace('\\xa0', ''))"
   ]
  },
  {
   "cell_type": "code",
   "execution_count": null,
   "metadata": {
    "collapsed": true
   },
   "outputs": [],
   "source": []
  }
 ],
 "metadata": {
  "kernelspec": {
   "display_name": "Python 3",
   "language": "python",
   "name": "python3"
  },
  "language_info": {
   "codemirror_mode": {
    "name": "ipython",
    "version": 3
   },
   "file_extension": ".py",
   "mimetype": "text/x-python",
   "name": "python",
   "nbconvert_exporter": "python",
   "pygments_lexer": "ipython3",
   "version": "3.6.1"
  }
 },
 "nbformat": 4,
 "nbformat_minor": 2
}
